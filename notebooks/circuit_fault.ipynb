{
  "cells": [
    {
      "cell_type": "markdown",
      "metadata": {
        "id": "view-in-github",
        "colab_type": "text"
      },
      "source": [
        "<a href=\"https://colab.research.google.com/github/santiagovazquezff/circuit_fault_detection/blob/main/circuit_fault.ipynb\" target=\"_parent\"><img src=\"https://colab.research.google.com/assets/colab-badge.svg\" alt=\"Open In Colab\"/></a>"
      ]
    },
    {
      "cell_type": "markdown",
      "metadata": {
        "id": "thQQJfIa6d3C"
      },
      "source": [
        "# **Circuit Fault ML Project**"
      ]
    },
    {
      "cell_type": "markdown",
      "source": [
        "## **Load data**"
      ],
      "metadata": {
        "id": "YRsqJqUDwqPW"
      }
    },
    {
      "cell_type": "markdown",
      "metadata": {
        "id": "P1BNpiSh6mKC"
      },
      "source": [
        "### Import\n"
      ]
    },
    {
      "cell_type": "code",
      "execution_count": 1,
      "metadata": {
        "colab": {
          "base_uri": "https://localhost:8080/",
          "height": 0
        },
        "id": "kJ1TQL10ulGI",
        "outputId": "83ed3b08-47da-4955-9e3a-f2c0fe72b5fa"
      },
      "outputs": [
        {
          "output_type": "stream",
          "name": "stdout",
          "text": [
            "Mounted at /content/drive\n"
          ]
        }
      ],
      "source": [
        "from google.colab import drive\n",
        "drive.mount('/content/drive')\n"
      ]
    },
    {
      "cell_type": "markdown",
      "source": [
        "### Extract ZIP"
      ],
      "metadata": {
        "id": "MsJbtwriyv-D"
      }
    },
    {
      "cell_type": "code",
      "execution_count": 2,
      "metadata": {
        "id": "m1YmFVpvH3RU"
      },
      "outputs": [],
      "source": [
        "import zipfile, os\n",
        "\n",
        "zip_path = \"/content/drive/MyDrive/data.zip\"\n",
        "with zipfile.ZipFile(zip_path, \"r\") as zip_ref:\n",
        "    zip_ref.extractall(\"/content\")"
      ]
    },
    {
      "cell_type": "markdown",
      "source": [
        "### Configurations and more imports"
      ],
      "metadata": {
        "id": "4qSoP3ZkzHHa"
      }
    },
    {
      "cell_type": "code",
      "execution_count": 3,
      "metadata": {
        "id": "qxYfXNELvBwE"
      },
      "outputs": [],
      "source": [
        "DATA_ROOT = \"/content/data\"\n",
        "CLASSES   = [\"healthy\", \"short_r1\", \"open_r1\"]\n",
        "FREQS     = [200, 500, 800, 1000, 1500, 2000]\n",
        "\n",
        "TIME_WINDOW = 0.1\n",
        "N_POINTS    = 16384\n",
        "VIN_PK      = 0.283\n",
        "INCLUDE_F0  = True\n",
        "\n",
        "import numpy as np, pandas as pd\n",
        "from os.path import join\n",
        "from sklearn.model_selection import train_test_split\n",
        "from sklearn.preprocessing import StandardScaler\n",
        "from sklearn.ensemble import RandomForestClassifier\n",
        "from sklearn.metrics import confusion_matrix, classification_report\n"
      ]
    },
    {
      "cell_type": "markdown",
      "source": [
        "## **Pipeline Functions**"
      ],
      "metadata": {
        "id": "XQ0Zg0sc0REo"
      }
    },
    {
      "cell_type": "markdown",
      "source": [
        "### Read data from CSV"
      ],
      "metadata": {
        "id": "B5aOEWbDxHG5"
      }
    },
    {
      "cell_type": "code",
      "source": [
        "def read_multirun_vout_csv(path: str, n_keep=50):\n",
        "    df = pd.read_csv(path)\n",
        "    t = df[\"s\"].to_numpy(float)\n",
        "    V = df.iloc[:, 1:1+n_keep].to_numpy(float)\n",
        "    return t, V\n",
        "\n",
        "dummy_path = \"/content/data/healthy/200.csv\"\n",
        "t_dummy, V_dummy = read_multirun_vout_csv(dummy_path, n_keep=50)\n",
        "\n",
        "print(\"t shape:\", t_dummy.shape)\n",
        "print(\"V shape:\", V_dummy.shape)\n",
        "\n",
        "print(\"First few time samples:\", t_dummy[:5])\n",
        "print(\"First few voltages of run 1:\", V_dummy[:5, 0])\n",
        "print(\"First few voltages of run 50:\", V_dummy[:5, -1])\n",
        "\n"
      ],
      "metadata": {
        "colab": {
          "base_uri": "https://localhost:8080/",
          "height": 0
        },
        "id": "Jc2d11Tt0DXK",
        "outputId": "cd5cb7bb-1c46-4003-f4a6-88a19cbc46d4"
      },
      "execution_count": 5,
      "outputs": [
        {
          "output_type": "stream",
          "name": "stdout",
          "text": [
            "t shape: (626003,)\n",
            "V shape: (626003, 50)\n",
            "First few time samples: [0.00000000e+00 8.00000000e-07 8.66008492e-07 8.66012506e-07\n",
            " 8.66163737e-07]\n",
            "First few voltages of run 1: [0.00262348 0.00073607 0.00056864 0.00056863 0.00056825]\n",
            "First few voltages of run 50: [0.00264795 0.00074945 0.00058105 0.00058104 0.00058066]\n"
          ]
        }
      ]
    },
    {
      "cell_type": "markdown",
      "source": [
        "### Standardisation of t and V samples"
      ],
      "metadata": {
        "id": "8An3buhAxXF6"
      }
    },
    {
      "cell_type": "code",
      "source": [
        "def standardise(t, v, time_window=TIME_WINDOW, n_points=N_POINTS):\n",
        "    t0 = t[0]\n",
        "    mask = (t - t0) < time_window\n",
        "    t2, v2 = t[mask], v[mask] #data where mask is True (less than the time window)\n",
        "    t_fit = np.linspace(0.0, time_window, n_points, endpoint=False)\n",
        "    v_fit = np.interp(t_fit, t2 - t0, v2) #interpolates the voltages to uniform time sample from before\n",
        "    return t_fit, v_fit #Note to self, 1-D arrays in the fitted functions output, so we use only the first column in V_dummy and not the whole n_pointsx50 V_dummy matrix\n",
        "\n",
        "t_dummy, V_dummy = standardise(t_dummy, V_dummy[:, 0])\n",
        "\n",
        "print(\"First few standardised time samples:\", t_dummy[:5])\n",
        "print(\"First few standardised voltages:\", V_dummy[:5])\n",
        "\n"
      ],
      "metadata": {
        "colab": {
          "base_uri": "https://localhost:8080/",
          "height": 0
        },
        "id": "VaesBqJBNOt6",
        "outputId": "870e056b-ed4b-4d56-e17c-10a8c3c08dc5"
      },
      "execution_count": 13,
      "outputs": [
        {
          "output_type": "stream",
          "name": "stdout",
          "text": [
            "First few standardised time samples: [0.00000000e+00 6.10351563e-06 1.22070313e-05 1.83105469e-05\n",
            " 2.44140625e-05]\n",
            "First few standardised voltages: [ 0.00262348 -0.01890937 -0.04226448 -0.06559856 -0.08892529]\n"
          ]
        }
      ]
    },
    {
      "cell_type": "markdown",
      "source": [
        "### Waveform features extraction"
      ],
      "metadata": {
        "id": "-y_PQQX9xfv-"
      }
    },
    {
      "cell_type": "code",
      "source": [
        "def lockin_features(v_fit, t_fit, f0):\n",
        "    x, tt = v_fit.astype(float), t_fit.astype(float)\n",
        "    dc = float(np.mean(x))\n",
        "    xz = x - dc\n",
        "    N = x.size\n",
        "\n",
        "    def ap(freq):\n",
        "        w = 2*np.pi*freq\n",
        "        c = np.cos(w*tt)\n",
        "        s = np.sin(w*tt)\n",
        "        a = (2.0/N)*np.dot(xz, c)\n",
        "        b = (2.0/N)*np.dot(xz, s)\n",
        "        A = float(np.hypot(a,b))\n",
        "        ph = float(np.arctan2(-b,a))\n",
        "        return A, ph\n",
        "\n",
        "\n",
        "    A1, ph = ap(f0)\n",
        "    A2, _  = ap(2*f0)\n",
        "    A3, _  = ap(3*f0)\n",
        "\n",
        "\n",
        "    thd = (np.sqrt(A2**2 + A3**2) / A1) if A1 > 0 else 0.0\n",
        "\n",
        "\n",
        "    ms_total = float(np.mean(x**2))\n",
        "    ms_dc = dc**2\n",
        "    ms_tones = (A1**2 + A2**2 + A3**2) / 2\n",
        "    noise_rms = float(np.sqrt(max(ms_total - ms_dc - ms_tones, 0.0)))\n",
        "\n",
        "    return A1, ph, thd, noise_rms, A2, A3\n",
        "\n",
        "\n",
        "A1_dummy, ph_dummy, thd_dummy, noise_rms_dummy, A2_dummy, A3_dummy = lockin_features(V_dummy, t_dummy, f0=200)\n",
        "\n",
        "print(\"Fundamental amplitude (A1):\", A1_dummy)\n",
        "print(\"Phase at f0 (ph):\", ph_dummy)\n",
        "print(\"Total Harmonic Distortion (THD):\", thd_dummy)\n",
        "print(\"Noise RMS:\", noise_rms_dummy)\n",
        "print(\"2nd harmonic amplitude (A2):\", A2_dummy)\n",
        "print(\"3rd harmonic amplitude (A3):\", A3_dummy)\n",
        "\n"
      ],
      "metadata": {
        "colab": {
          "base_uri": "https://localhost:8080/",
          "height": 0
        },
        "id": "ZeeHp_-f81Ae",
        "outputId": "c50a0b21-f801-4142-b860-d51124b3332a"
      },
      "execution_count": 14,
      "outputs": [
        {
          "output_type": "stream",
          "name": "stdout",
          "text": [
            "Fundamental amplitude (A1): 3.0401981530013815\n",
            "Phase at f0 (ph): 1.57018404814481\n",
            "Total Harmonic Distortion (THD): 3.5599910150589134e-05\n",
            "Noise RMS: 0.0022464605827324283\n",
            "2nd harmonic amplitude (A2): 7.654438031982989e-05\n",
            "3rd harmonic amplitude (A3): 7.651705572040724e-05\n"
          ]
        }
      ]
    },
    {
      "cell_type": "markdown",
      "source": [
        "### Building the dataset"
      ],
      "metadata": {
        "id": "9FEnknhPxohd"
      }
    },
    {
      "cell_type": "code",
      "source": [
        "def build_dataset(data_root=DATA_ROOT, classes=CLASSES, freqs=FREQS,\n",
        "                  vin_pk=VIN_PK, include_f0=INCLUDE_F0):\n",
        "    rows, labels = [], []\n",
        "    for cls in classes:\n",
        "        for f0 in freqs:\n",
        "            path = join(data_root, cls, f\"{f0}.csv\")\n",
        "            t, V = read_multirun_vout_csv(path)\n",
        "\n",
        "            for k in range(V.shape[1]):\n",
        "                t_fit, v_fit = standardise(t, V[:,k])\n",
        "                A1, ph, thd, noise_rms, A2, A3 = lockin_features(v_fit, t_fit, f0)\n",
        "\n",
        "\n",
        "                feats = [\n",
        "                    A1/vin_pk, ph, thd,\n",
        "                    noise_rms/vin_pk, A2/vin_pk, A3/vin_pk\n",
        "                ]\n",
        "                if include_f0:\n",
        "                    feats.append(float(f0))\n",
        "\n",
        "                rows.append(feats)\n",
        "                labels.append(cls)\n",
        "\n",
        "    X = np.array(rows, float)\n",
        "    y = np.array(labels, object)\n",
        "    feat_names = [\n",
        "        \"A1_gain\",\"phase\",\"THD\",\"noise_rel\",\"A2_gain\",\"A3_gain\"\n",
        "    ] + ([\"f0\"] if include_f0 else [])\n",
        "\n",
        "    return X, y, feat_names\n"
      ],
      "metadata": {
        "id": "S2SVEpt982M3"
      },
      "execution_count": 15,
      "outputs": []
    },
    {
      "cell_type": "markdown",
      "source": [
        "## **Model building**"
      ],
      "metadata": {
        "id": "CGJ5AY7q0_7z"
      }
    },
    {
      "cell_type": "markdown",
      "source": [
        "### Data splitting"
      ],
      "metadata": {
        "id": "eRCCi3Pp0sE6"
      }
    },
    {
      "cell_type": "code",
      "source": [
        "X, y, feat_names = build_dataset()\n",
        "print(\"X shape:\", X.shape, \" y shape:\", y.shape)\n",
        "print(\"Features:\", feat_names)\n",
        "print(\"Class balance:\", {c:int(n) for c,n in zip(*np.unique(y, return_counts=True))})\n",
        "\n",
        "Xtr, Xte, ytr, yte = train_test_split(X, y, test_size=0.2, stratify=y, random_state=42)"
      ],
      "metadata": {
        "colab": {
          "base_uri": "https://localhost:8080/",
          "height": 0
        },
        "id": "esqVahDx0JKB",
        "outputId": "62e31321-f509-4303-8864-3014aa627c8a"
      },
      "execution_count": 16,
      "outputs": [
        {
          "output_type": "stream",
          "name": "stdout",
          "text": [
            "X shape: (900, 7)  y shape: (900,)\n",
            "Features: ['A1_gain', 'phase', 'THD', 'noise_rel', 'A2_gain', 'A3_gain', 'f0']\n",
            "Class balance: {'healthy': 300, 'open_r1': 300, 'short_r1': 300}\n"
          ]
        }
      ]
    },
    {
      "cell_type": "markdown",
      "source": [
        "### Training the model"
      ],
      "metadata": {
        "id": "8k9T0sPPx552"
      }
    },
    {
      "cell_type": "code",
      "source": [
        "rf = RandomForestClassifier(n_estimators=300, random_state=42, n_jobs=-1, class_weight=\"balanced_subsample\")\n",
        "rf.fit(Xtr, ytr)\n"
      ],
      "metadata": {
        "colab": {
          "base_uri": "https://localhost:8080/",
          "height": 97
        },
        "id": "DtmH737Z1Dbl",
        "outputId": "c6670c39-b041-46e7-b124-d52d12796fec"
      },
      "execution_count": 18,
      "outputs": [
        {
          "output_type": "execute_result",
          "data": {
            "text/plain": [
              "RandomForestClassifier(class_weight='balanced_subsample', n_estimators=300,\n",
              "                       n_jobs=-1, random_state=42)"
            ],
            "text/html": [
              "<style>#sk-container-id-1 {\n",
              "  /* Definition of color scheme common for light and dark mode */\n",
              "  --sklearn-color-text: #000;\n",
              "  --sklearn-color-text-muted: #666;\n",
              "  --sklearn-color-line: gray;\n",
              "  /* Definition of color scheme for unfitted estimators */\n",
              "  --sklearn-color-unfitted-level-0: #fff5e6;\n",
              "  --sklearn-color-unfitted-level-1: #f6e4d2;\n",
              "  --sklearn-color-unfitted-level-2: #ffe0b3;\n",
              "  --sklearn-color-unfitted-level-3: chocolate;\n",
              "  /* Definition of color scheme for fitted estimators */\n",
              "  --sklearn-color-fitted-level-0: #f0f8ff;\n",
              "  --sklearn-color-fitted-level-1: #d4ebff;\n",
              "  --sklearn-color-fitted-level-2: #b3dbfd;\n",
              "  --sklearn-color-fitted-level-3: cornflowerblue;\n",
              "\n",
              "  /* Specific color for light theme */\n",
              "  --sklearn-color-text-on-default-background: var(--sg-text-color, var(--theme-code-foreground, var(--jp-content-font-color1, black)));\n",
              "  --sklearn-color-background: var(--sg-background-color, var(--theme-background, var(--jp-layout-color0, white)));\n",
              "  --sklearn-color-border-box: var(--sg-text-color, var(--theme-code-foreground, var(--jp-content-font-color1, black)));\n",
              "  --sklearn-color-icon: #696969;\n",
              "\n",
              "  @media (prefers-color-scheme: dark) {\n",
              "    /* Redefinition of color scheme for dark theme */\n",
              "    --sklearn-color-text-on-default-background: var(--sg-text-color, var(--theme-code-foreground, var(--jp-content-font-color1, white)));\n",
              "    --sklearn-color-background: var(--sg-background-color, var(--theme-background, var(--jp-layout-color0, #111)));\n",
              "    --sklearn-color-border-box: var(--sg-text-color, var(--theme-code-foreground, var(--jp-content-font-color1, white)));\n",
              "    --sklearn-color-icon: #878787;\n",
              "  }\n",
              "}\n",
              "\n",
              "#sk-container-id-1 {\n",
              "  color: var(--sklearn-color-text);\n",
              "}\n",
              "\n",
              "#sk-container-id-1 pre {\n",
              "  padding: 0;\n",
              "}\n",
              "\n",
              "#sk-container-id-1 input.sk-hidden--visually {\n",
              "  border: 0;\n",
              "  clip: rect(1px 1px 1px 1px);\n",
              "  clip: rect(1px, 1px, 1px, 1px);\n",
              "  height: 1px;\n",
              "  margin: -1px;\n",
              "  overflow: hidden;\n",
              "  padding: 0;\n",
              "  position: absolute;\n",
              "  width: 1px;\n",
              "}\n",
              "\n",
              "#sk-container-id-1 div.sk-dashed-wrapped {\n",
              "  border: 1px dashed var(--sklearn-color-line);\n",
              "  margin: 0 0.4em 0.5em 0.4em;\n",
              "  box-sizing: border-box;\n",
              "  padding-bottom: 0.4em;\n",
              "  background-color: var(--sklearn-color-background);\n",
              "}\n",
              "\n",
              "#sk-container-id-1 div.sk-container {\n",
              "  /* jupyter's `normalize.less` sets `[hidden] { display: none; }`\n",
              "     but bootstrap.min.css set `[hidden] { display: none !important; }`\n",
              "     so we also need the `!important` here to be able to override the\n",
              "     default hidden behavior on the sphinx rendered scikit-learn.org.\n",
              "     See: https://github.com/scikit-learn/scikit-learn/issues/21755 */\n",
              "  display: inline-block !important;\n",
              "  position: relative;\n",
              "}\n",
              "\n",
              "#sk-container-id-1 div.sk-text-repr-fallback {\n",
              "  display: none;\n",
              "}\n",
              "\n",
              "div.sk-parallel-item,\n",
              "div.sk-serial,\n",
              "div.sk-item {\n",
              "  /* draw centered vertical line to link estimators */\n",
              "  background-image: linear-gradient(var(--sklearn-color-text-on-default-background), var(--sklearn-color-text-on-default-background));\n",
              "  background-size: 2px 100%;\n",
              "  background-repeat: no-repeat;\n",
              "  background-position: center center;\n",
              "}\n",
              "\n",
              "/* Parallel-specific style estimator block */\n",
              "\n",
              "#sk-container-id-1 div.sk-parallel-item::after {\n",
              "  content: \"\";\n",
              "  width: 100%;\n",
              "  border-bottom: 2px solid var(--sklearn-color-text-on-default-background);\n",
              "  flex-grow: 1;\n",
              "}\n",
              "\n",
              "#sk-container-id-1 div.sk-parallel {\n",
              "  display: flex;\n",
              "  align-items: stretch;\n",
              "  justify-content: center;\n",
              "  background-color: var(--sklearn-color-background);\n",
              "  position: relative;\n",
              "}\n",
              "\n",
              "#sk-container-id-1 div.sk-parallel-item {\n",
              "  display: flex;\n",
              "  flex-direction: column;\n",
              "}\n",
              "\n",
              "#sk-container-id-1 div.sk-parallel-item:first-child::after {\n",
              "  align-self: flex-end;\n",
              "  width: 50%;\n",
              "}\n",
              "\n",
              "#sk-container-id-1 div.sk-parallel-item:last-child::after {\n",
              "  align-self: flex-start;\n",
              "  width: 50%;\n",
              "}\n",
              "\n",
              "#sk-container-id-1 div.sk-parallel-item:only-child::after {\n",
              "  width: 0;\n",
              "}\n",
              "\n",
              "/* Serial-specific style estimator block */\n",
              "\n",
              "#sk-container-id-1 div.sk-serial {\n",
              "  display: flex;\n",
              "  flex-direction: column;\n",
              "  align-items: center;\n",
              "  background-color: var(--sklearn-color-background);\n",
              "  padding-right: 1em;\n",
              "  padding-left: 1em;\n",
              "}\n",
              "\n",
              "\n",
              "/* Toggleable style: style used for estimator/Pipeline/ColumnTransformer box that is\n",
              "clickable and can be expanded/collapsed.\n",
              "- Pipeline and ColumnTransformer use this feature and define the default style\n",
              "- Estimators will overwrite some part of the style using the `sk-estimator` class\n",
              "*/\n",
              "\n",
              "/* Pipeline and ColumnTransformer style (default) */\n",
              "\n",
              "#sk-container-id-1 div.sk-toggleable {\n",
              "  /* Default theme specific background. It is overwritten whether we have a\n",
              "  specific estimator or a Pipeline/ColumnTransformer */\n",
              "  background-color: var(--sklearn-color-background);\n",
              "}\n",
              "\n",
              "/* Toggleable label */\n",
              "#sk-container-id-1 label.sk-toggleable__label {\n",
              "  cursor: pointer;\n",
              "  display: flex;\n",
              "  width: 100%;\n",
              "  margin-bottom: 0;\n",
              "  padding: 0.5em;\n",
              "  box-sizing: border-box;\n",
              "  text-align: center;\n",
              "  align-items: start;\n",
              "  justify-content: space-between;\n",
              "  gap: 0.5em;\n",
              "}\n",
              "\n",
              "#sk-container-id-1 label.sk-toggleable__label .caption {\n",
              "  font-size: 0.6rem;\n",
              "  font-weight: lighter;\n",
              "  color: var(--sklearn-color-text-muted);\n",
              "}\n",
              "\n",
              "#sk-container-id-1 label.sk-toggleable__label-arrow:before {\n",
              "  /* Arrow on the left of the label */\n",
              "  content: \"▸\";\n",
              "  float: left;\n",
              "  margin-right: 0.25em;\n",
              "  color: var(--sklearn-color-icon);\n",
              "}\n",
              "\n",
              "#sk-container-id-1 label.sk-toggleable__label-arrow:hover:before {\n",
              "  color: var(--sklearn-color-text);\n",
              "}\n",
              "\n",
              "/* Toggleable content - dropdown */\n",
              "\n",
              "#sk-container-id-1 div.sk-toggleable__content {\n",
              "  max-height: 0;\n",
              "  max-width: 0;\n",
              "  overflow: hidden;\n",
              "  text-align: left;\n",
              "  /* unfitted */\n",
              "  background-color: var(--sklearn-color-unfitted-level-0);\n",
              "}\n",
              "\n",
              "#sk-container-id-1 div.sk-toggleable__content.fitted {\n",
              "  /* fitted */\n",
              "  background-color: var(--sklearn-color-fitted-level-0);\n",
              "}\n",
              "\n",
              "#sk-container-id-1 div.sk-toggleable__content pre {\n",
              "  margin: 0.2em;\n",
              "  border-radius: 0.25em;\n",
              "  color: var(--sklearn-color-text);\n",
              "  /* unfitted */\n",
              "  background-color: var(--sklearn-color-unfitted-level-0);\n",
              "}\n",
              "\n",
              "#sk-container-id-1 div.sk-toggleable__content.fitted pre {\n",
              "  /* unfitted */\n",
              "  background-color: var(--sklearn-color-fitted-level-0);\n",
              "}\n",
              "\n",
              "#sk-container-id-1 input.sk-toggleable__control:checked~div.sk-toggleable__content {\n",
              "  /* Expand drop-down */\n",
              "  max-height: 200px;\n",
              "  max-width: 100%;\n",
              "  overflow: auto;\n",
              "}\n",
              "\n",
              "#sk-container-id-1 input.sk-toggleable__control:checked~label.sk-toggleable__label-arrow:before {\n",
              "  content: \"▾\";\n",
              "}\n",
              "\n",
              "/* Pipeline/ColumnTransformer-specific style */\n",
              "\n",
              "#sk-container-id-1 div.sk-label input.sk-toggleable__control:checked~label.sk-toggleable__label {\n",
              "  color: var(--sklearn-color-text);\n",
              "  background-color: var(--sklearn-color-unfitted-level-2);\n",
              "}\n",
              "\n",
              "#sk-container-id-1 div.sk-label.fitted input.sk-toggleable__control:checked~label.sk-toggleable__label {\n",
              "  background-color: var(--sklearn-color-fitted-level-2);\n",
              "}\n",
              "\n",
              "/* Estimator-specific style */\n",
              "\n",
              "/* Colorize estimator box */\n",
              "#sk-container-id-1 div.sk-estimator input.sk-toggleable__control:checked~label.sk-toggleable__label {\n",
              "  /* unfitted */\n",
              "  background-color: var(--sklearn-color-unfitted-level-2);\n",
              "}\n",
              "\n",
              "#sk-container-id-1 div.sk-estimator.fitted input.sk-toggleable__control:checked~label.sk-toggleable__label {\n",
              "  /* fitted */\n",
              "  background-color: var(--sklearn-color-fitted-level-2);\n",
              "}\n",
              "\n",
              "#sk-container-id-1 div.sk-label label.sk-toggleable__label,\n",
              "#sk-container-id-1 div.sk-label label {\n",
              "  /* The background is the default theme color */\n",
              "  color: var(--sklearn-color-text-on-default-background);\n",
              "}\n",
              "\n",
              "/* On hover, darken the color of the background */\n",
              "#sk-container-id-1 div.sk-label:hover label.sk-toggleable__label {\n",
              "  color: var(--sklearn-color-text);\n",
              "  background-color: var(--sklearn-color-unfitted-level-2);\n",
              "}\n",
              "\n",
              "/* Label box, darken color on hover, fitted */\n",
              "#sk-container-id-1 div.sk-label.fitted:hover label.sk-toggleable__label.fitted {\n",
              "  color: var(--sklearn-color-text);\n",
              "  background-color: var(--sklearn-color-fitted-level-2);\n",
              "}\n",
              "\n",
              "/* Estimator label */\n",
              "\n",
              "#sk-container-id-1 div.sk-label label {\n",
              "  font-family: monospace;\n",
              "  font-weight: bold;\n",
              "  display: inline-block;\n",
              "  line-height: 1.2em;\n",
              "}\n",
              "\n",
              "#sk-container-id-1 div.sk-label-container {\n",
              "  text-align: center;\n",
              "}\n",
              "\n",
              "/* Estimator-specific */\n",
              "#sk-container-id-1 div.sk-estimator {\n",
              "  font-family: monospace;\n",
              "  border: 1px dotted var(--sklearn-color-border-box);\n",
              "  border-radius: 0.25em;\n",
              "  box-sizing: border-box;\n",
              "  margin-bottom: 0.5em;\n",
              "  /* unfitted */\n",
              "  background-color: var(--sklearn-color-unfitted-level-0);\n",
              "}\n",
              "\n",
              "#sk-container-id-1 div.sk-estimator.fitted {\n",
              "  /* fitted */\n",
              "  background-color: var(--sklearn-color-fitted-level-0);\n",
              "}\n",
              "\n",
              "/* on hover */\n",
              "#sk-container-id-1 div.sk-estimator:hover {\n",
              "  /* unfitted */\n",
              "  background-color: var(--sklearn-color-unfitted-level-2);\n",
              "}\n",
              "\n",
              "#sk-container-id-1 div.sk-estimator.fitted:hover {\n",
              "  /* fitted */\n",
              "  background-color: var(--sklearn-color-fitted-level-2);\n",
              "}\n",
              "\n",
              "/* Specification for estimator info (e.g. \"i\" and \"?\") */\n",
              "\n",
              "/* Common style for \"i\" and \"?\" */\n",
              "\n",
              ".sk-estimator-doc-link,\n",
              "a:link.sk-estimator-doc-link,\n",
              "a:visited.sk-estimator-doc-link {\n",
              "  float: right;\n",
              "  font-size: smaller;\n",
              "  line-height: 1em;\n",
              "  font-family: monospace;\n",
              "  background-color: var(--sklearn-color-background);\n",
              "  border-radius: 1em;\n",
              "  height: 1em;\n",
              "  width: 1em;\n",
              "  text-decoration: none !important;\n",
              "  margin-left: 0.5em;\n",
              "  text-align: center;\n",
              "  /* unfitted */\n",
              "  border: var(--sklearn-color-unfitted-level-1) 1pt solid;\n",
              "  color: var(--sklearn-color-unfitted-level-1);\n",
              "}\n",
              "\n",
              ".sk-estimator-doc-link.fitted,\n",
              "a:link.sk-estimator-doc-link.fitted,\n",
              "a:visited.sk-estimator-doc-link.fitted {\n",
              "  /* fitted */\n",
              "  border: var(--sklearn-color-fitted-level-1) 1pt solid;\n",
              "  color: var(--sklearn-color-fitted-level-1);\n",
              "}\n",
              "\n",
              "/* On hover */\n",
              "div.sk-estimator:hover .sk-estimator-doc-link:hover,\n",
              ".sk-estimator-doc-link:hover,\n",
              "div.sk-label-container:hover .sk-estimator-doc-link:hover,\n",
              ".sk-estimator-doc-link:hover {\n",
              "  /* unfitted */\n",
              "  background-color: var(--sklearn-color-unfitted-level-3);\n",
              "  color: var(--sklearn-color-background);\n",
              "  text-decoration: none;\n",
              "}\n",
              "\n",
              "div.sk-estimator.fitted:hover .sk-estimator-doc-link.fitted:hover,\n",
              ".sk-estimator-doc-link.fitted:hover,\n",
              "div.sk-label-container:hover .sk-estimator-doc-link.fitted:hover,\n",
              ".sk-estimator-doc-link.fitted:hover {\n",
              "  /* fitted */\n",
              "  background-color: var(--sklearn-color-fitted-level-3);\n",
              "  color: var(--sklearn-color-background);\n",
              "  text-decoration: none;\n",
              "}\n",
              "\n",
              "/* Span, style for the box shown on hovering the info icon */\n",
              ".sk-estimator-doc-link span {\n",
              "  display: none;\n",
              "  z-index: 9999;\n",
              "  position: relative;\n",
              "  font-weight: normal;\n",
              "  right: .2ex;\n",
              "  padding: .5ex;\n",
              "  margin: .5ex;\n",
              "  width: min-content;\n",
              "  min-width: 20ex;\n",
              "  max-width: 50ex;\n",
              "  color: var(--sklearn-color-text);\n",
              "  box-shadow: 2pt 2pt 4pt #999;\n",
              "  /* unfitted */\n",
              "  background: var(--sklearn-color-unfitted-level-0);\n",
              "  border: .5pt solid var(--sklearn-color-unfitted-level-3);\n",
              "}\n",
              "\n",
              ".sk-estimator-doc-link.fitted span {\n",
              "  /* fitted */\n",
              "  background: var(--sklearn-color-fitted-level-0);\n",
              "  border: var(--sklearn-color-fitted-level-3);\n",
              "}\n",
              "\n",
              ".sk-estimator-doc-link:hover span {\n",
              "  display: block;\n",
              "}\n",
              "\n",
              "/* \"?\"-specific style due to the `<a>` HTML tag */\n",
              "\n",
              "#sk-container-id-1 a.estimator_doc_link {\n",
              "  float: right;\n",
              "  font-size: 1rem;\n",
              "  line-height: 1em;\n",
              "  font-family: monospace;\n",
              "  background-color: var(--sklearn-color-background);\n",
              "  border-radius: 1rem;\n",
              "  height: 1rem;\n",
              "  width: 1rem;\n",
              "  text-decoration: none;\n",
              "  /* unfitted */\n",
              "  color: var(--sklearn-color-unfitted-level-1);\n",
              "  border: var(--sklearn-color-unfitted-level-1) 1pt solid;\n",
              "}\n",
              "\n",
              "#sk-container-id-1 a.estimator_doc_link.fitted {\n",
              "  /* fitted */\n",
              "  border: var(--sklearn-color-fitted-level-1) 1pt solid;\n",
              "  color: var(--sklearn-color-fitted-level-1);\n",
              "}\n",
              "\n",
              "/* On hover */\n",
              "#sk-container-id-1 a.estimator_doc_link:hover {\n",
              "  /* unfitted */\n",
              "  background-color: var(--sklearn-color-unfitted-level-3);\n",
              "  color: var(--sklearn-color-background);\n",
              "  text-decoration: none;\n",
              "}\n",
              "\n",
              "#sk-container-id-1 a.estimator_doc_link.fitted:hover {\n",
              "  /* fitted */\n",
              "  background-color: var(--sklearn-color-fitted-level-3);\n",
              "}\n",
              "</style><div id=\"sk-container-id-1\" class=\"sk-top-container\"><div class=\"sk-text-repr-fallback\"><pre>RandomForestClassifier(class_weight=&#x27;balanced_subsample&#x27;, n_estimators=300,\n",
              "                       n_jobs=-1, random_state=42)</pre><b>In a Jupyter environment, please rerun this cell to show the HTML representation or trust the notebook. <br />On GitHub, the HTML representation is unable to render, please try loading this page with nbviewer.org.</b></div><div class=\"sk-container\" hidden><div class=\"sk-item\"><div class=\"sk-estimator fitted sk-toggleable\"><input class=\"sk-toggleable__control sk-hidden--visually\" id=\"sk-estimator-id-1\" type=\"checkbox\" checked><label for=\"sk-estimator-id-1\" class=\"sk-toggleable__label fitted sk-toggleable__label-arrow\"><div><div>RandomForestClassifier</div></div><div><a class=\"sk-estimator-doc-link fitted\" rel=\"noreferrer\" target=\"_blank\" href=\"https://scikit-learn.org/1.6/modules/generated/sklearn.ensemble.RandomForestClassifier.html\">?<span>Documentation for RandomForestClassifier</span></a><span class=\"sk-estimator-doc-link fitted\">i<span>Fitted</span></span></div></label><div class=\"sk-toggleable__content fitted\"><pre>RandomForestClassifier(class_weight=&#x27;balanced_subsample&#x27;, n_estimators=300,\n",
              "                       n_jobs=-1, random_state=42)</pre></div> </div></div></div></div>"
            ]
          },
          "metadata": {},
          "execution_count": 18
        }
      ]
    },
    {
      "cell_type": "markdown",
      "source": [
        "### Applying model to make a prediction"
      ],
      "metadata": {
        "id": "XCEIa5gf1NVd"
      }
    },
    {
      "cell_type": "code",
      "source": [
        "y_rf_train_pred = rf.predict(Xtr)\n",
        "y_rf_test_pred = rf.predict(Xte)"
      ],
      "metadata": {
        "id": "jsLrr28j1QqS"
      },
      "execution_count": 19,
      "outputs": []
    },
    {
      "cell_type": "markdown",
      "source": [
        "## **Model results**"
      ],
      "metadata": {
        "id": "CvYUMhMiyVRC"
      }
    },
    {
      "cell_type": "markdown",
      "source": [
        "### Confusion matrix, classification report, and cv accuracy score"
      ],
      "metadata": {
        "id": "zWo1a-DlyZw5"
      }
    },
    {
      "cell_type": "code",
      "source": [
        "from sklearn.metrics import accuracy_score\n",
        "from sklearn.model_selection import cross_val_score\n",
        "\n",
        "print(\"Confusion matrix (train):\\n\", confusion_matrix(ytr, y_rf_train_pred))\n",
        "print(\"Classification report (train):\\n\", classification_report(ytr, y_rf_train_pred))\n",
        "print(\"Train accuracy:\", accuracy_score(ytr, y_rf_train_pred))\n",
        "\n",
        "print(\"\\nConfusion matrix (test): \\n\", confusion_matrix(yte, y_rf_test_pred))\n",
        "print(\"Classification report (test):\\n\", classification_report(yte, y_rf_test_pred))\n",
        "print(\"Test accuracy:\", accuracy_score(yte, y_rf_test_pred))\n",
        "\n",
        "cv_scores = cross_val_score(rf, X, y, cv=5, scoring=\"accuracy\", n_jobs=-1)\n",
        "print(\"CV accuracy: %.4f ± %.4f\" % (cv_scores.mean(), cv_scores.std()))\n",
        "\n",
        "\n"
      ],
      "metadata": {
        "colab": {
          "base_uri": "https://localhost:8080/",
          "height": 0
        },
        "id": "aPCiXEFWHqXq",
        "outputId": "6b1b1e79-2112-4046-9d1e-e8e6cd7498fa"
      },
      "execution_count": 21,
      "outputs": [
        {
          "output_type": "stream",
          "name": "stdout",
          "text": [
            "Confusion matrix (train):\n",
            " [[240   0   0]\n",
            " [  0 240   0]\n",
            " [  0   0 240]]\n",
            "Classification report (train):\n",
            "               precision    recall  f1-score   support\n",
            "\n",
            "     healthy       1.00      1.00      1.00       240\n",
            "     open_r1       1.00      1.00      1.00       240\n",
            "    short_r1       1.00      1.00      1.00       240\n",
            "\n",
            "    accuracy                           1.00       720\n",
            "   macro avg       1.00      1.00      1.00       720\n",
            "weighted avg       1.00      1.00      1.00       720\n",
            "\n",
            "Train accuracy: 1.0\n",
            "\n",
            "Confusion matrix (test): \n",
            " [[60  0  0]\n",
            " [ 0 60  0]\n",
            " [ 0  0 60]]\n",
            "Classification report (test):\n",
            "               precision    recall  f1-score   support\n",
            "\n",
            "     healthy       1.00      1.00      1.00        60\n",
            "     open_r1       1.00      1.00      1.00        60\n",
            "    short_r1       1.00      1.00      1.00        60\n",
            "\n",
            "    accuracy                           1.00       180\n",
            "   macro avg       1.00      1.00      1.00       180\n",
            "weighted avg       1.00      1.00      1.00       180\n",
            "\n",
            "Test accuracy: 1.0\n",
            "CV accuracy: 1.0000 ± 0.0000\n"
          ]
        }
      ]
    },
    {
      "cell_type": "markdown",
      "source": [
        "### Frequency held out check"
      ],
      "metadata": {
        "id": "-4nQwqLFyqwk"
      }
    },
    {
      "cell_type": "code",
      "source": [
        "from sklearn.model_selection import GroupKFold, cross_val_score\n",
        "groups = X[:, -1].astype(int)\n",
        "X_no_f0 = X[:, :-1]                     # drop f0 so model can't “cheat” with it\n",
        "cv = GroupKFold(n_splits=len(np.unique(groups)))\n",
        "scores = cross_val_score(rf, X_no_f0, y, cv=cv, groups=groups, scoring=\"accuracy\", n_jobs=-1)\n",
        "print(\"Group (by f0) CV accuracy: %.4f ± %.4f\" % (scores.mean(), scores.std()))\n"
      ],
      "metadata": {
        "colab": {
          "base_uri": "https://localhost:8080/",
          "height": 0
        },
        "id": "pSVLKB7nJQ9E",
        "outputId": "6017835c-9ca1-4e33-8afd-2abc438d87e6"
      },
      "execution_count": 22,
      "outputs": [
        {
          "output_type": "stream",
          "name": "stdout",
          "text": [
            "Group (by f0) CV accuracy: 0.9444 ± 0.1242\n"
          ]
        }
      ]
    },
    {
      "cell_type": "markdown",
      "source": [
        "### Label shuffle check"
      ],
      "metadata": {
        "id": "a2E4q5BTy_UD"
      }
    },
    {
      "cell_type": "code",
      "source": [
        "import numpy as np\n",
        "from sklearn.metrics import accuracy_score\n",
        "rf_shuf = RandomForestClassifier(n_estimators=300, random_state=0, n_jobs=-1)\n",
        "ytr_shuf = np.random.permutation(ytr)\n",
        "rf_shuf.fit(Xtr, ytr_shuf)\n",
        "print(\"Label-shuffle test accuracy:\", accuracy_score(yte, rf_shuf.predict(Xte)))\n"
      ],
      "metadata": {
        "colab": {
          "base_uri": "https://localhost:8080/",
          "height": 0
        },
        "id": "f5t4J9-iJ3L3",
        "outputId": "fae7dae5-6b86-4a0d-a99d-90e76f349315"
      },
      "execution_count": 23,
      "outputs": [
        {
          "output_type": "stream",
          "name": "stdout",
          "text": [
            "Label-shuffle test accuracy: 0.3055555555555556\n"
          ]
        }
      ]
    },
    {
      "cell_type": "markdown",
      "source": [
        "### Testing for duplicates"
      ],
      "metadata": {
        "id": "gXv_hUEnzB0O"
      }
    },
    {
      "cell_type": "code",
      "source": [
        "tr = {tuple(row) for row in np.round(Xtr, 12)}\n",
        "te = {tuple(row) for row in np.round(Xte, 12)}\n",
        "print(\"Exact duplicates across train/test:\", len(tr & te))\n"
      ],
      "metadata": {
        "colab": {
          "base_uri": "https://localhost:8080/",
          "height": 0
        },
        "id": "_82Et9W4KEsD",
        "outputId": "079d257d-80a4-4c0c-e61b-09d0de11c96e"
      },
      "execution_count": 24,
      "outputs": [
        {
          "output_type": "stream",
          "name": "stdout",
          "text": [
            "Exact duplicates across train/test: 0\n"
          ]
        }
      ]
    }
  ],
  "metadata": {
    "colab": {
      "provenance": [],
      "toc_visible": true,
      "authorship_tag": "ABX9TyPtyFLnE1ppcf2+IiXmfTXb",
      "include_colab_link": true
    },
    "kernelspec": {
      "display_name": "Python 3",
      "name": "python3"
    },
    "language_info": {
      "name": "python"
    }
  },
  "nbformat": 4,
  "nbformat_minor": 0
}
